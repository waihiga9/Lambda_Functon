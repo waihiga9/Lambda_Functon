{
 "cells": [
  {
   "attachments": {},
   "cell_type": "markdown",
   "metadata": {},
   "source": [
    "## Lambda Functions"
   ]
  },
  {
   "attachments": {},
   "cell_type": "markdown",
   "metadata": {},
   "source": [
    "A lambda fn is a small anonymous function\n",
    "\n",
    "lambda arguments : expression\n",
    "\n",
    "> A lambda fn can take any number or argumnets,but can only havr one expression."
   ]
  },
  {
   "cell_type": "code",
   "execution_count": 1,
   "metadata": {},
   "outputs": [
    {
     "data": {
      "text/plain": [
       "5"
      ]
     },
     "execution_count": 1,
     "metadata": {},
     "output_type": "execute_result"
    }
   ],
   "source": [
    "add = lambda a, b:a+b\n",
    "add(2,3)"
   ]
  },
  {
   "cell_type": "code",
   "execution_count": 2,
   "metadata": {},
   "outputs": [
    {
     "data": {
      "text/plain": [
       "[1, 4, 9, 16, 25, 36]"
      ]
     },
     "execution_count": 2,
     "metadata": {},
     "output_type": "execute_result"
    }
   ],
   "source": [
    "nums = [1, 2, 3, 4, 5, 6]\n",
    "\n",
    "nums_power_2 = map(lambda num:num**2, nums)\n",
    "list(nums_power_2)"
   ]
  },
  {
   "cell_type": "code",
   "execution_count": 3,
   "metadata": {},
   "outputs": [
    {
     "data": {
      "text/html": [
       "<div>\n",
       "<style scoped>\n",
       "    .dataframe tbody tr th:only-of-type {\n",
       "        vertical-align: middle;\n",
       "    }\n",
       "\n",
       "    .dataframe tbody tr th {\n",
       "        vertical-align: top;\n",
       "    }\n",
       "\n",
       "    .dataframe thead th {\n",
       "        text-align: right;\n",
       "    }\n",
       "</style>\n",
       "<table border=\"1\" class=\"dataframe\">\n",
       "  <thead>\n",
       "    <tr style=\"text-align: right;\">\n",
       "      <th></th>\n",
       "      <th>business_id</th>\n",
       "      <th>cool</th>\n",
       "      <th>date</th>\n",
       "      <th>funny</th>\n",
       "      <th>review_id</th>\n",
       "      <th>stars</th>\n",
       "      <th>text</th>\n",
       "      <th>useful</th>\n",
       "      <th>user_id</th>\n",
       "    </tr>\n",
       "  </thead>\n",
       "  <tbody>\n",
       "    <tr>\n",
       "      <th>1</th>\n",
       "      <td>pomGBqfbxcqPv14c3XH-ZQ</td>\n",
       "      <td>0</td>\n",
       "      <td>2012-11-13</td>\n",
       "      <td>0</td>\n",
       "      <td>dDl8zu1vWPdKGihJrwQbpw</td>\n",
       "      <td>5</td>\n",
       "      <td>I love this place! My fiance And I go here atl...</td>\n",
       "      <td>0</td>\n",
       "      <td>msQe1u7Z_XuqjGoqhB0J5g</td>\n",
       "    </tr>\n",
       "    <tr>\n",
       "      <th>2</th>\n",
       "      <td>jtQARsP6P-LbkyjbO1qNGg</td>\n",
       "      <td>1</td>\n",
       "      <td>2014-10-23</td>\n",
       "      <td>1</td>\n",
       "      <td>LZp4UX5zK3e-c5ZGSeo3kA</td>\n",
       "      <td>1</td>\n",
       "      <td>Terrible. Dry corn bread. Rib tips were all fa...</td>\n",
       "      <td>3</td>\n",
       "      <td>msQe1u7Z_XuqjGoqhB0J5g</td>\n",
       "    </tr>\n",
       "    <tr>\n",
       "      <th>4</th>\n",
       "      <td>Ums3gaP2qM3W1XcA5r6SsQ</td>\n",
       "      <td>0</td>\n",
       "      <td>2014-09-05</td>\n",
       "      <td>0</td>\n",
       "      <td>jsDu6QEJHbwP2Blom1PLCA</td>\n",
       "      <td>5</td>\n",
       "      <td>Delicious healthy food. The steak is amazing. ...</td>\n",
       "      <td>0</td>\n",
       "      <td>msQe1u7Z_XuqjGoqhB0J5g</td>\n",
       "    </tr>\n",
       "    <tr>\n",
       "      <th>5</th>\n",
       "      <td>vgfcTvK81oD4r50NMjU2Ag</td>\n",
       "      <td>0</td>\n",
       "      <td>2011-02-25</td>\n",
       "      <td>0</td>\n",
       "      <td>pfavA0hr3nyqO61oupj-lA</td>\n",
       "      <td>1</td>\n",
       "      <td>This place sucks. The customer service is horr...</td>\n",
       "      <td>2</td>\n",
       "      <td>msQe1u7Z_XuqjGoqhB0J5g</td>\n",
       "    </tr>\n",
       "    <tr>\n",
       "      <th>10</th>\n",
       "      <td>yFumR3CWzpfvTH2FCthvVw</td>\n",
       "      <td>0</td>\n",
       "      <td>2016-06-15</td>\n",
       "      <td>0</td>\n",
       "      <td>STiFMww2z31siPY7BWNC2g</td>\n",
       "      <td>5</td>\n",
       "      <td>I have been an Emerald Club member for a numbe...</td>\n",
       "      <td>0</td>\n",
       "      <td>TlvV-xJhmh7LCwJYXkV-cg</td>\n",
       "    </tr>\n",
       "  </tbody>\n",
       "</table>\n",
       "</div>"
      ],
      "text/plain": [
       "               business_id  cool        date  funny               review_id  \\\n",
       "1   pomGBqfbxcqPv14c3XH-ZQ     0  2012-11-13      0  dDl8zu1vWPdKGihJrwQbpw   \n",
       "2   jtQARsP6P-LbkyjbO1qNGg     1  2014-10-23      1  LZp4UX5zK3e-c5ZGSeo3kA   \n",
       "4   Ums3gaP2qM3W1XcA5r6SsQ     0  2014-09-05      0  jsDu6QEJHbwP2Blom1PLCA   \n",
       "5   vgfcTvK81oD4r50NMjU2Ag     0  2011-02-25      0  pfavA0hr3nyqO61oupj-lA   \n",
       "10  yFumR3CWzpfvTH2FCthvVw     0  2016-06-15      0  STiFMww2z31siPY7BWNC2g   \n",
       "\n",
       "    stars                                               text  useful  \\\n",
       "1       5  I love this place! My fiance And I go here atl...       0   \n",
       "2       1  Terrible. Dry corn bread. Rib tips were all fa...       3   \n",
       "4       5  Delicious healthy food. The steak is amazing. ...       0   \n",
       "5       1  This place sucks. The customer service is horr...       2   \n",
       "10      5  I have been an Emerald Club member for a numbe...       0   \n",
       "\n",
       "                   user_id  \n",
       "1   msQe1u7Z_XuqjGoqhB0J5g  \n",
       "2   msQe1u7Z_XuqjGoqhB0J5g  \n",
       "4   msQe1u7Z_XuqjGoqhB0J5g  \n",
       "5   msQe1u7Z_XuqjGoqhB0J5g  \n",
       "10  TlvV-xJhmh7LCwJYXkV-cg  "
      ]
     },
     "execution_count": 3,
     "metadata": {},
     "output_type": "execute_result"
    }
   ],
   "source": [
    "import pandas as pd\n",
    "df = pd.read_csv('Yelp_Reviews.csv', index_col=0)\n",
    "df.head()"
   ]
  },
  {
   "attachments": {},
   "cell_type": "markdown",
   "metadata": {},
   "source": [
    "## Simple `lambda` function"
   ]
  },
  {
   "cell_type": "code",
   "execution_count": 4,
   "metadata": {},
   "outputs": [
    {
     "data": {
      "text/plain": [
       "1     58\n",
       "2     30\n",
       "4     30\n",
       "5     82\n",
       "10    32\n",
       "Name: text, dtype: int64"
      ]
     },
     "execution_count": 4,
     "metadata": {},
     "output_type": "execute_result"
    }
   ],
   "source": [
    "df['text'].map(lambda x: len(x.split())).head()"
   ]
  },
  {
   "cell_type": "code",
   "execution_count": 5,
   "metadata": {},
   "outputs": [
    {
     "data": {
      "text/plain": [
       "1     58\n",
       "2     30\n",
       "4     30\n",
       "5     82\n",
       "10    32\n",
       "Name: text, dtype: int64"
      ]
     },
     "execution_count": 5,
     "metadata": {},
     "output_type": "execute_result"
    }
   ],
   "source": [
    "df['text'].map(lambda review_text:len(review_text.split())).head()"
   ]
  },
  {
   "attachments": {},
   "cell_type": "markdown",
   "metadata": {},
   "source": [
    "## Lambda functions with conditionals"
   ]
  },
  {
   "cell_type": "code",
   "execution_count": 6,
   "metadata": {},
   "outputs": [
    {
     "data": {
      "text/plain": [
       "1     Good\n",
       "2      Bad\n",
       "4     Good\n",
       "5      Bad\n",
       "10     Bad\n",
       "Name: text, dtype: object"
      ]
     },
     "execution_count": 6,
     "metadata": {},
     "output_type": "execute_result"
    }
   ],
   "source": [
    "df['text'].map(lambda x: \"Good\" if any([word in x.lower()for word in ['awesome', 'love', 'good', 'great']])else 'Bad').head()"
   ]
  },
  {
   "attachments": {},
   "cell_type": "markdown",
   "metadata": {},
   "source": [
    "**Returning to a more manageable example...**"
   ]
  },
  {
   "cell_type": "code",
   "execution_count": 7,
   "metadata": {},
   "outputs": [
    {
     "data": {
      "text/plain": [
       "1     2012\n",
       "2     2014\n",
       "4     2014\n",
       "5     2011\n",
       "10    2016\n",
       "Name: date, dtype: object"
      ]
     },
     "execution_count": 7,
     "metadata": {},
     "output_type": "execute_result"
    }
   ],
   "source": [
    "# Select the year from the date string\n",
    "df.date.map(lambda x: x[:4]).head()"
   ]
  },
  {
   "attachments": {},
   "cell_type": "markdown",
   "metadata": {},
   "source": [
    "**Lambda fns are also useful within the `sort()` fn**"
   ]
  },
  {
   "cell_type": "code",
   "execution_count": 8,
   "metadata": {},
   "outputs": [
    {
     "data": {
      "text/plain": [
       "['Audrey Mayer',\n",
       " 'Bethany Martin',\n",
       " 'Carter Wong',\n",
       " 'Eddie Reeves',\n",
       " 'Elaine Barrera',\n",
       " 'Jaiden Liu',\n",
       " 'Kameron Davidson',\n",
       " 'Marley Beard',\n",
       " 'Miriam Marks',\n",
       " 'Sidney Baird',\n",
       " 'Stephen Rios',\n",
       " 'Teagan Bennett']"
      ]
     },
     "execution_count": 8,
     "metadata": {},
     "output_type": "execute_result"
    }
   ],
   "source": [
    "# Without a key\n",
    "names = ['Miriam Marks','Sidney Baird','Elaine Barrera','Eddie Reeves','Marley Beard',\n",
    "         'Jaiden Liu','Bethany Martin','Stephen Rios','Audrey Mayer','Kameron Davidson',\n",
    "         'Carter Wong','Teagan Bennett']\n",
    "sorted(names)"
   ]
  },
  {
   "cell_type": "code",
   "execution_count": 9,
   "metadata": {},
   "outputs": [
    {
     "data": {
      "text/plain": [
       "['Sidney Baird',\n",
       " 'Elaine Barrera',\n",
       " 'Marley Beard',\n",
       " 'Teagan Bennett',\n",
       " 'Kameron Davidson',\n",
       " 'Jaiden Liu',\n",
       " 'Miriam Marks',\n",
       " 'Bethany Martin',\n",
       " 'Audrey Mayer',\n",
       " 'Eddie Reeves',\n",
       " 'Stephen Rios',\n",
       " 'Carter Wong']"
      ]
     },
     "execution_count": 9,
     "metadata": {},
     "output_type": "execute_result"
    }
   ],
   "source": [
    "# Sorting by last name\n",
    "sorted(names, key=lambda x: x.split()[1])"
   ]
  },
  {
   "attachments": {},
   "cell_type": "markdown",
   "metadata": {},
   "source": [
    "**Experiment and solve for individual cases first**\n",
    "\n",
    "Before trying to write a function to apply to an entire series, it's typically easier to attempt to solve for an individual case. For example, if we're trying to determine the number of words in a review, we can try and do this for a single review first."
   ]
  },
  {
   "cell_type": "code",
   "execution_count": 11,
   "metadata": {},
   "outputs": [
    {
     "data": {
      "text/plain": [
       "'I love this place! My fiance And I go here atleast once a week. The portions are huge! Food is amazing. I love their carne asada. They have great lunch specials... Leticia is super nice and cares about what you think of her restaurant. You have to try their cheese enchiladas too the sauce is different And amazing!!!'"
      ]
     },
     "execution_count": 11,
     "metadata": {},
     "output_type": "execute_result"
    }
   ],
   "source": [
    "example = df.text.iloc[0]\n",
    "example"
   ]
  },
  {
   "cell_type": "code",
   "execution_count": 12,
   "metadata": {},
   "outputs": [
    {
     "data": {
      "text/plain": [
       "['I',\n",
       " 'love',\n",
       " 'this',\n",
       " 'place!',\n",
       " 'My',\n",
       " 'fiance',\n",
       " 'And',\n",
       " 'I',\n",
       " 'go',\n",
       " 'here',\n",
       " 'atleast',\n",
       " 'once',\n",
       " 'a',\n",
       " 'week.',\n",
       " 'The',\n",
       " 'portions',\n",
       " 'are',\n",
       " 'huge!',\n",
       " 'Food',\n",
       " 'is',\n",
       " 'amazing.',\n",
       " 'I',\n",
       " 'love',\n",
       " 'their',\n",
       " 'carne',\n",
       " 'asada.',\n",
       " 'They',\n",
       " 'have',\n",
       " 'great',\n",
       " 'lunch',\n",
       " 'specials...',\n",
       " 'Leticia',\n",
       " 'is',\n",
       " 'super',\n",
       " 'nice',\n",
       " 'and',\n",
       " 'cares',\n",
       " 'about',\n",
       " 'what',\n",
       " 'you',\n",
       " 'think',\n",
       " 'of',\n",
       " 'her',\n",
       " 'restaurant.',\n",
       " 'You',\n",
       " 'have',\n",
       " 'to',\n",
       " 'try',\n",
       " 'their',\n",
       " 'cheese',\n",
       " 'enchiladas',\n",
       " 'too',\n",
       " 'the',\n",
       " 'sauce',\n",
       " 'is',\n",
       " 'different',\n",
       " 'And',\n",
       " 'amazing!!!']"
      ]
     },
     "execution_count": 12,
     "metadata": {},
     "output_type": "execute_result"
    }
   ],
   "source": [
    "example.split()"
   ]
  },
  {
   "cell_type": "code",
   "execution_count": 13,
   "metadata": {},
   "outputs": [
    {
     "data": {
      "text/plain": [
       "58"
      ]
     },
     "execution_count": 13,
     "metadata": {},
     "output_type": "execute_result"
    }
   ],
   "source": [
    "len(example.split())"
   ]
  },
  {
   "cell_type": "code",
   "execution_count": 14,
   "metadata": {},
   "outputs": [
    {
     "data": {
      "text/plain": [
       "1     58\n",
       "2     30\n",
       "4     30\n",
       "5     82\n",
       "10    32\n",
       "Name: text, dtype: int64"
      ]
     },
     "execution_count": 14,
     "metadata": {},
     "output_type": "execute_result"
    }
   ],
   "source": [
    "# Solving for all\n",
    "df.text.map(lambda x: len(x.split())).head()"
   ]
  },
  {
   "cell_type": "code",
   "execution_count": 18,
   "metadata": {},
   "outputs": [
    {
     "data": {
      "text/plain": [
       "['this', 'is', 'a', 'weird', 'test!!!Can', 'we', 'break', 'it???']"
      ]
     },
     "execution_count": 18,
     "metadata": {},
     "output_type": "execute_result"
    }
   ],
   "source": [
    "# Do extra spaces and punctiations affect the output\n",
    "'this is a       weird test!!!Can we break it???'.split()\n",
    "# extra spaces won't break our function,\n",
    "# but missing a space after punctuation will. "
   ]
  },
  {
   "attachments": {},
   "cell_type": "markdown",
   "metadata": {},
   "source": [
    "## Combining % and //"
   ]
  },
  {
   "attachments": {},
   "cell_type": "markdown",
   "metadata": {},
   "source": [
    "This is useful when creating subplots.\n",
    "Below, iterate through 12 elements aranging them into 3 rows and 4 columns"
   ]
  },
  {
   "cell_type": "code",
   "execution_count": 21,
   "metadata": {},
   "outputs": [
    {
     "name": "stdout",
     "output_type": "stream",
     "text": [
      "i: 0, Row: 0 Column: 0\n",
      "i: 1, Row: 0 Column: 1\n",
      "i: 2, Row: 0 Column: 2\n",
      "i: 3, Row: 0 Column: 3\n",
      "i: 4, Row: 1 Column: 0\n",
      "i: 5, Row: 1 Column: 1\n",
      "i: 6, Row: 1 Column: 2\n",
      "i: 7, Row: 1 Column: 3\n",
      "i: 8, Row: 2 Column: 0\n",
      "i: 9, Row: 2 Column: 1\n",
      "i: 10, Row: 2 Column: 2\n",
      "i: 11, Row: 2 Column: 3\n"
     ]
    }
   ],
   "source": [
    "for i in range(12):\n",
    "    print(f\"i: {i}, Row: {i//4} Column: {i%4}\")"
   ]
  },
  {
   "cell_type": "code",
   "execution_count": 22,
   "metadata": {},
   "outputs": [],
   "source": [
    "import numpy as np\n",
    "import matplotlib.pyplot as plt\n",
    "%matplotlib inline"
   ]
  },
  {
   "cell_type": "code",
   "execution_count": 25,
   "metadata": {},
   "outputs": [
    {
     "data": {
      "image/png": "[encoded data removed]",
      "text/plain": [
       "<Figure size 720x720 with 12 Axes>"
      ]
     },
     "metadata": {
      "needs_background": "light"
     },
     "output_type": "display_data"
    }
   ],
   "source": [
    "fig, axes = plt.subplots(nrows=3, ncols=4, figsize = (10, 10))\n",
    "x = np.linspace(start=-10, stop=10, num=10*83)\n",
    "for i in range(12):\n",
    "    row = i//4\n",
    "    col = i%4\n",
    "    ax = axes[row, col]\n",
    "    ax.scatter(x,x**i)\n",
    "    ax.set_title('Plot of x^{}'.format(i))\n",
    "plt.show()"
   ]
  }
 ],
 "metadata": {
  "kernelspec": {
   "display_name": "Python 3",
   "language": "python",
   "name": "python3"
  },
  "language_info": {
   "codemirror_mode": {
    "name": "ipython",
    "version": 3
   },
   "file_extension": ".py",
   "mimetype": "text/x-python",
   "name": "python",
   "nbconvert_exporter": "python",
   "pygments_lexer": "ipython3",
   "version": "3.10.4"
  },
  "orig_nbformat": 4,
  "vscode": {
   "interpreter": {
    "hash": "26de051ba29f2982a8de78e945f0abaf191376122a1563185a90213a26c5da77"
   }
  }
 },
 "nbformat": 4,
 "nbformat_minor": 2
}
